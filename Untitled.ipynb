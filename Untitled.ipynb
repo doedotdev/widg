{
 "cells": [
  {
   "cell_type": "code",
   "execution_count": 1,
   "id": "9813e6e0",
   "metadata": {},
   "outputs": [],
   "source": [
    "from ben import HelloWorld"
   ]
  },
  {
   "cell_type": "code",
   "execution_count": 2,
   "id": "8adc4444",
   "metadata": {},
   "outputs": [],
   "source": [
    "import ben"
   ]
  },
  {
   "cell_type": "code",
   "execution_count": 3,
   "id": "f263e5e7",
   "metadata": {},
   "outputs": [
    {
     "data": {
      "text/plain": [
       "['HelloWorld',\n",
       " 'Unicode',\n",
       " '__builtins__',\n",
       " '__cached__',\n",
       " '__doc__',\n",
       " '__file__',\n",
       " '__loader__',\n",
       " '__name__',\n",
       " '__package__',\n",
       " '__path__',\n",
       " '__spec__',\n",
       " '__version__',\n",
       " '_jupyter_labextension_paths',\n",
       " '_jupyter_nbextension_paths',\n",
       " '_version',\n",
       " 'example',\n",
       " 'version_info',\n",
       " 'widgets']"
      ]
     },
     "execution_count": 3,
     "metadata": {},
     "output_type": "execute_result"
    }
   ],
   "source": [
    "dir(ben)"
   ]
  },
  {
   "cell_type": "code",
   "execution_count": 4,
   "id": "6808f926",
   "metadata": {},
   "outputs": [
    {
     "data": {
      "text/plain": [
       "<module 'ipywidgets' from '/Users/doe/Documents/Git/venv/lib/python3.6/site-packages/ipywidgets/__init__.py'>"
      ]
     },
     "execution_count": 4,
     "metadata": {},
     "output_type": "execute_result"
    }
   ],
   "source": [
    "ben.widgets"
   ]
  },
  {
   "cell_type": "code",
   "execution_count": 5,
   "id": "38048a4c",
   "metadata": {},
   "outputs": [
    {
     "data": {
      "application/vnd.jupyter.widget-view+json": {
       "model_id": "05a5b625132e4e249ca2c5d0476dc3ee",
       "version_major": 2,
       "version_minor": 0
      },
      "text/plain": [
       "HelloWorld()"
      ]
     },
     "metadata": {},
     "output_type": "display_data"
    }
   ],
   "source": [
    "x = HelloWorld()\n",
    "x"
   ]
  },
  {
   "cell_type": "code",
   "execution_count": 15,
   "id": "7355c545",
   "metadata": {},
   "outputs": [],
   "source": [
    "x.value = \"new thing\""
   ]
  },
  {
   "cell_type": "code",
   "execution_count": 7,
   "id": "b8eeea57",
   "metadata": {},
   "outputs": [
    {
     "data": {
      "application/vnd.jupyter.widget-view+json": {
       "model_id": "3c7d19756a0b48a083c85952799873ca",
       "version_major": 2,
       "version_minor": 0
      },
      "text/plain": [
       "HelloWorld()"
      ]
     },
     "metadata": {},
     "output_type": "display_data"
    }
   ],
   "source": [
    "HelloWorld()"
   ]
  },
  {
   "cell_type": "code",
   "execution_count": null,
   "id": "25cccfe2",
   "metadata": {},
   "outputs": [],
   "source": []
  }
 ],
 "metadata": {
  "kernelspec": {
   "display_name": "Python 3",
   "language": "python",
   "name": "python3"
  },
  "language_info": {
   "codemirror_mode": {
    "name": "ipython",
    "version": 3
   },
   "file_extension": ".py",
   "mimetype": "text/x-python",
   "name": "python",
   "nbconvert_exporter": "python",
   "pygments_lexer": "ipython3",
   "version": "3.6.8"
  }
 },
 "nbformat": 4,
 "nbformat_minor": 5
}
